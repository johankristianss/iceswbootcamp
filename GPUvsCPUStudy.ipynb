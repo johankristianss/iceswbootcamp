{
 "cells": [
  {
   "cell_type": "markdown",
   "id": "37eababb-bedb-4977-9ea1-55c2b15c8eed",
   "metadata": {},
   "source": [
    "# GPU vs CPU Performance "
   ]
  },
  {
   "cell_type": "markdown",
   "id": "cb1b17f5-428f-43f8-b198-ae659c81e66d",
   "metadata": {},
   "source": [
    "# Install and import dependencies\n",
    "We need the matplotlib to plot performance diagrams. \n",
    "Prefix the code with an exclamation mark to run system command. !pip3 installs Python dependencies."
   ]
  },
  {
   "cell_type": "code",
   "execution_count": 1,
   "id": "64cf45e8-a3aa-4e17-8d7d-4af744ee2199",
   "metadata": {
    "collapsed": true,
    "jupyter": {
     "outputs_hidden": true
    },
    "scrolled": true
   },
   "outputs": [
    {
     "name": "stdout",
     "output_type": "stream",
     "text": [
      "Requirement already satisfied: matplotlib in /usr/local/lib/python3.8/dist-packages (3.7.3)\n",
      "Requirement already satisfied: contourpy>=1.0.1 in /usr/local/lib/python3.8/dist-packages (from matplotlib) (1.1.1)\n",
      "Requirement already satisfied: cycler>=0.10 in /usr/local/lib/python3.8/dist-packages (from matplotlib) (0.12.1)\n",
      "Requirement already satisfied: fonttools>=4.22.0 in /usr/local/lib/python3.8/dist-packages (from matplotlib) (4.43.1)\n",
      "Requirement already satisfied: kiwisolver>=1.0.1 in /usr/local/lib/python3.8/dist-packages (from matplotlib) (1.4.5)\n",
      "Requirement already satisfied: numpy<2,>=1.20 in /usr/local/lib/python3.8/dist-packages (from matplotlib) (1.24.3)\n",
      "Requirement already satisfied: packaging>=20.0 in /usr/local/lib/python3.8/dist-packages (from matplotlib) (23.1)\n",
      "Requirement already satisfied: pillow>=6.2.0 in /usr/local/lib/python3.8/dist-packages (from matplotlib) (10.0.1)\n",
      "Requirement already satisfied: pyparsing>=2.3.1 in /usr/local/lib/python3.8/dist-packages (from matplotlib) (3.1.1)\n",
      "Requirement already satisfied: python-dateutil>=2.7 in /usr/local/lib/python3.8/dist-packages (from matplotlib) (2.8.2)\n",
      "Requirement already satisfied: importlib-resources>=3.2.0 in /usr/local/lib/python3.8/dist-packages (from matplotlib) (6.1.0)\n",
      "Requirement already satisfied: zipp>=3.1.0 in /usr/local/lib/python3.8/dist-packages (from importlib-resources>=3.2.0->matplotlib) (3.15.0)\n",
      "Requirement already satisfied: six>=1.5 in /usr/lib/python3/dist-packages (from python-dateutil>=2.7->matplotlib) (1.14.0)\n",
      "\u001b[33mWARNING: Running pip as the 'root' user can result in broken permissions and conflicting behaviour with the system package manager. It is recommended to use a virtual environment instead: https://pip.pypa.io/warnings/venv\u001b[0m\u001b[33m\n",
      "\u001b[0m\n",
      "\u001b[1m[\u001b[0m\u001b[34;49mnotice\u001b[0m\u001b[1;39;49m]\u001b[0m\u001b[39;49m A new release of pip is available: \u001b[0m\u001b[31;49m23.2.1\u001b[0m\u001b[39;49m -> \u001b[0m\u001b[32;49m23.3.1\u001b[0m\n",
      "\u001b[1m[\u001b[0m\u001b[34;49mnotice\u001b[0m\u001b[1;39;49m]\u001b[0m\u001b[39;49m To update, run: \u001b[0m\u001b[32;49mpython3 -m pip install --upgrade pip\u001b[0m\n"
     ]
    }
   ],
   "source": [
    "!pip3 install matplotlib"
   ]
  },
  {
   "cell_type": "code",
   "execution_count": 12,
   "id": "31dee03c-bed5-4e5b-b4f9-349a0bb518fa",
   "metadata": {},
   "outputs": [],
   "source": [
    "import tensorflow as tf\n",
    "import time\n",
    "import matplotlib.pyplot as plt\n",
    "import numpy as np"
   ]
  },
  {
   "cell_type": "markdown",
   "id": "d9e4232a-d9c0-40c7-8092-8b7cc1e18bd1",
   "metadata": {},
   "source": [
    "## Experiment 1 - Matrix size comparision"
   ]
  },
  {
   "cell_type": "markdown",
   "id": "7758a7c3-5f80-40ad-ae6a-63732354b0b6",
   "metadata": {},
   "source": [
    "Let's first define a matrix size range for measurement. The code below performs measurements from size 5 to 10000, taking 50 steps between each measurement."
   ]
  },
  {
   "cell_type": "code",
   "execution_count": 3,
   "id": "f31cb20b-7cce-4477-bc69-8a7d7bf58322",
   "metadata": {},
   "outputs": [],
   "source": [
    "matrix_sizes = range(5, 20000, 100)"
   ]
  },
  {
   "cell_type": "markdown",
   "id": "edc6e7ae-b68b-4d1f-a290-f07e64057f95",
   "metadata": {},
   "source": [
    "Implement a function that performs a matrix multiplication and return execution time."
   ]
  },
  {
   "cell_type": "code",
   "execution_count": 4,
   "id": "bf01f762-2671-420e-9416-424b528dc307",
   "metadata": {},
   "outputs": [],
   "source": [
    "def measure_time(size, device):\n",
    "    A = tf.random.normal([size, size], dtype=tf.float32)\n",
    "    B = tf.random.normal([size, size], dtype=tf.float32)\n",
    "\n",
    "    with tf.device(device):\n",
    "        start_time = time.time()\n",
    "        C = tf.matmul(A, B)\n",
    "        C.numpy()\n",
    "        elapsed_time = time.time() - start_time\n",
    "    \n",
    "    return elapsed_time"
   ]
  },
  {
   "cell_type": "markdown",
   "id": "d77213c9-a565-490a-b799-57a19c4a8483",
   "metadata": {},
   "source": [
    "Lets test the measure_time function."
   ]
  },
  {
   "cell_type": "code",
   "execution_count": 6,
   "id": "bb5380e4-c603-4273-803e-85cd881862ad",
   "metadata": {},
   "outputs": [
    {
     "name": "stdout",
     "output_type": "stream",
     "text": [
      "0.8577773571014404\n",
      "14.43545937538147\n"
     ]
    }
   ],
   "source": [
    "print(measure_time(20000, '/GPU:0'))\n",
    "print(measure_time(20000, '/CPU:0'))"
   ]
  },
  {
   "cell_type": "markdown",
   "id": "748637ad-5f09-4512-a5a1-9294b8c1e968",
   "metadata": {},
   "source": [
    "Now run the experiment."
   ]
  },
  {
   "cell_type": "code",
   "execution_count": 7,
   "id": "8f6b9ecd-9c5c-40a7-818f-d1e60f87d550",
   "metadata": {
    "scrolled": true
   },
   "outputs": [
    {
     "name": "stdout",
     "output_type": "stream",
     "text": [
      "Size: 5, CPU time: 0.00017523765563964844, GPU time: 0.00012159347534179688\n",
      "Size: 105, CPU time: 0.0001270771026611328, GPU time: 0.00012493133544921875\n",
      "Size: 205, CPU time: 0.00025343894958496094, GPU time: 0.00019884109497070312\n",
      "Size: 305, CPU time: 0.0003459453582763672, GPU time: 0.0002295970916748047\n",
      "Size: 405, CPU time: 0.0005586147308349609, GPU time: 0.0002894401550292969\n",
      "Size: 505, CPU time: 0.0008616447448730469, GPU time: 0.000293731689453125\n",
      "Size: 605, CPU time: 0.001069784164428711, GPU time: 0.0003604888916015625\n",
      "Size: 705, CPU time: 0.0072689056396484375, GPU time: 0.0005078315734863281\n",
      "Size: 805, CPU time: 0.002288818359375, GPU time: 0.0005648136138916016\n",
      "Size: 905, CPU time: 0.006336212158203125, GPU time: 0.0007977485656738281\n",
      "Size: 1005, CPU time: 0.0033037662506103516, GPU time: 0.0007352828979492188\n",
      "Size: 1105, CPU time: 0.00857853889465332, GPU time: 0.0012166500091552734\n",
      "Size: 1205, CPU time: 0.005287885665893555, GPU time: 0.0011522769927978516\n",
      "Size: 1305, CPU time: 0.009228229522705078, GPU time: 0.0013523101806640625\n",
      "Size: 1405, CPU time: 0.0065004825592041016, GPU time: 0.0014066696166992188\n",
      "Size: 1505, CPU time: 0.013841390609741211, GPU time: 0.0017642974853515625\n",
      "Size: 1605, CPU time: 0.009003162384033203, GPU time: 0.0028138160705566406\n",
      "Size: 1705, CPU time: 0.015508890151977539, GPU time: 0.00232696533203125\n",
      "Size: 1805, CPU time: 0.015464544296264648, GPU time: 0.0026526451110839844\n",
      "Size: 1905, CPU time: 0.02187204360961914, GPU time: 0.003072023391723633\n",
      "Size: 2005, CPU time: 0.03887057304382324, GPU time: 0.015127182006835938\n",
      "Size: 2105, CPU time: 0.02808213233947754, GPU time: 0.016271591186523438\n",
      "Size: 2205, CPU time: 0.03441929817199707, GPU time: 0.010828018188476562\n",
      "Size: 2305, CPU time: 0.043085336685180664, GPU time: 0.012184619903564453\n",
      "Size: 2405, CPU time: 0.04552602767944336, GPU time: 0.012980461120605469\n",
      "Size: 2505, CPU time: 0.04290008544921875, GPU time: 0.014107227325439453\n",
      "Size: 2605, CPU time: 0.04705929756164551, GPU time: 0.014887571334838867\n",
      "Size: 2705, CPU time: 0.05194425582885742, GPU time: 0.021815061569213867\n",
      "Size: 2805, CPU time: 0.05549883842468262, GPU time: 0.024515628814697266\n",
      "Size: 2905, CPU time: 0.06308627128601074, GPU time: 0.02539205551147461\n",
      "Size: 3005, CPU time: 0.06609749794006348, GPU time: 0.027665376663208008\n",
      "Size: 3105, CPU time: 0.07243704795837402, GPU time: 0.019588470458984375\n",
      "Size: 3205, CPU time: 0.07823824882507324, GPU time: 0.01995062828063965\n",
      "Size: 3305, CPU time: 0.08619832992553711, GPU time: 0.015801668167114258\n",
      "Size: 3405, CPU time: 0.09080910682678223, GPU time: 0.017411470413208008\n",
      "Size: 3505, CPU time: 0.09861254692077637, GPU time: 0.01942133903503418\n",
      "Size: 3605, CPU time: 0.10456180572509766, GPU time: 0.0191648006439209\n",
      "Size: 3705, CPU time: 0.11234402656555176, GPU time: 0.02199268341064453\n",
      "Size: 3805, CPU time: 0.12122344970703125, GPU time: 0.03141951560974121\n",
      "Size: 3905, CPU time: 0.1300208568572998, GPU time: 0.025374650955200195\n",
      "Size: 4005, CPU time: 0.14275813102722168, GPU time: 0.028235673904418945\n",
      "Size: 4105, CPU time: 0.14969754219055176, GPU time: 0.03007054328918457\n",
      "Size: 4205, CPU time: 0.15413975715637207, GPU time: 0.024003028869628906\n",
      "Size: 4305, CPU time: 0.16820740699768066, GPU time: 0.0273435115814209\n",
      "Size: 4405, CPU time: 0.17449212074279785, GPU time: 0.027156352996826172\n",
      "Size: 4505, CPU time: 0.18817472457885742, GPU time: 0.02725696563720703\n",
      "Size: 4605, CPU time: 0.20266222953796387, GPU time: 0.02779841423034668\n",
      "Size: 4705, CPU time: 0.21462178230285645, GPU time: 0.029358386993408203\n",
      "Size: 4805, CPU time: 0.2276592254638672, GPU time: 0.03095245361328125\n",
      "Size: 4905, CPU time: 0.2408311367034912, GPU time: 0.03216981887817383\n",
      "Size: 5005, CPU time: 0.25897789001464844, GPU time: 0.03421592712402344\n",
      "Size: 5105, CPU time: 0.28061556816101074, GPU time: 0.03640937805175781\n",
      "Size: 5205, CPU time: 0.28345608711242676, GPU time: 0.035828351974487305\n",
      "Size: 5305, CPU time: 0.3045492172241211, GPU time: 0.03766942024230957\n",
      "Size: 5405, CPU time: 0.3243436813354492, GPU time: 0.040558576583862305\n",
      "Size: 5505, CPU time: 0.33904075622558594, GPU time: 0.04147934913635254\n",
      "Size: 5605, CPU time: 0.36746811866760254, GPU time: 0.042588233947753906\n",
      "Size: 5705, CPU time: 0.37596845626831055, GPU time: 0.04448509216308594\n",
      "Size: 5805, CPU time: 0.39086079597473145, GPU time: 0.0478212833404541\n",
      "Size: 5905, CPU time: 0.42213940620422363, GPU time: 0.04657721519470215\n",
      "Size: 6005, CPU time: 0.4244883060455322, GPU time: 0.04967522621154785\n",
      "Size: 6105, CPU time: 0.44606900215148926, GPU time: 0.050545454025268555\n",
      "Size: 6205, CPU time: 0.4671285152435303, GPU time: 0.05311846733093262\n",
      "Size: 6305, CPU time: 0.4932861328125, GPU time: 0.05514788627624512\n",
      "Size: 6405, CPU time: 0.5157585144042969, GPU time: 0.05785346031188965\n",
      "Size: 6505, CPU time: 0.5422101020812988, GPU time: 0.05848407745361328\n",
      "Size: 6605, CPU time: 0.5599725246429443, GPU time: 0.06076383590698242\n",
      "Size: 6705, CPU time: 0.609626293182373, GPU time: 0.06322264671325684\n",
      "Size: 6805, CPU time: 0.6134026050567627, GPU time: 0.06860828399658203\n",
      "Size: 6905, CPU time: 0.6578891277313232, GPU time: 0.06740903854370117\n",
      "Size: 7005, CPU time: 0.6664450168609619, GPU time: 0.06959652900695801\n",
      "Size: 7105, CPU time: 0.6845824718475342, GPU time: 0.07253098487854004\n",
      "Size: 7205, CPU time: 0.7384872436523438, GPU time: 0.07396793365478516\n",
      "Size: 7305, CPU time: 0.7745990753173828, GPU time: 0.08046483993530273\n",
      "Size: 7405, CPU time: 0.8022060394287109, GPU time: 0.0790872573852539\n",
      "Size: 7505, CPU time: 0.8584728240966797, GPU time: 0.08575177192687988\n",
      "Size: 7605, CPU time: 0.8623781204223633, GPU time: 0.08451271057128906\n",
      "Size: 7705, CPU time: 0.9029312133789062, GPU time: 0.08771562576293945\n",
      "Size: 7805, CPU time: 0.9509193897247314, GPU time: 0.08913135528564453\n",
      "Size: 7905, CPU time: 0.9693126678466797, GPU time: 0.09372329711914062\n",
      "Size: 8005, CPU time: 1.0067362785339355, GPU time: 0.09494900703430176\n",
      "Size: 8105, CPU time: 1.0485169887542725, GPU time: 0.09753799438476562\n",
      "Size: 8205, CPU time: 1.0499789714813232, GPU time: 0.10186052322387695\n",
      "Size: 8305, CPU time: 1.1039037704467773, GPU time: 0.10392522811889648\n",
      "Size: 8405, CPU time: 1.133659839630127, GPU time: 0.11116480827331543\n",
      "Size: 8505, CPU time: 1.1579413414001465, GPU time: 0.11051607131958008\n",
      "Size: 8605, CPU time: 1.205186128616333, GPU time: 0.11207962036132812\n",
      "Size: 8705, CPU time: 1.2625503540039062, GPU time: 0.11521172523498535\n",
      "Size: 8805, CPU time: 1.285196304321289, GPU time: 0.11685466766357422\n",
      "Size: 8905, CPU time: 1.3383140563964844, GPU time: 0.11825013160705566\n",
      "Size: 9005, CPU time: 1.3674049377441406, GPU time: 0.12743330001831055\n",
      "Size: 9105, CPU time: 1.3906114101409912, GPU time: 0.12752103805541992\n",
      "Size: 9205, CPU time: 1.42496919631958, GPU time: 0.13319659233093262\n",
      "Size: 9305, CPU time: 1.484607458114624, GPU time: 0.13418245315551758\n",
      "Size: 9405, CPU time: 1.5507872104644775, GPU time: 0.13875126838684082\n",
      "Size: 9505, CPU time: 1.6106507778167725, GPU time: 0.13808393478393555\n",
      "Size: 9605, CPU time: 1.6620895862579346, GPU time: 0.14769220352172852\n",
      "Size: 9705, CPU time: 1.7518589496612549, GPU time: 0.14916682243347168\n",
      "Size: 9805, CPU time: 1.7873454093933105, GPU time: 0.16520357131958008\n",
      "Size: 9905, CPU time: 1.8464007377624512, GPU time: 0.15624022483825684\n",
      "Size: 10005, CPU time: 1.920179843902588, GPU time: 0.16259145736694336\n",
      "Size: 10105, CPU time: 1.947045087814331, GPU time: 0.16626906394958496\n",
      "Size: 10205, CPU time: 2.000164747238159, GPU time: 0.1666090488433838\n",
      "Size: 10305, CPU time: 2.0638065338134766, GPU time: 0.17228388786315918\n",
      "Size: 10405, CPU time: 2.100799798965454, GPU time: 0.18111181259155273\n",
      "Size: 10505, CPU time: 2.1617300510406494, GPU time: 0.1841590404510498\n",
      "Size: 10605, CPU time: 2.2083346843719482, GPU time: 0.18715262413024902\n",
      "Size: 10705, CPU time: 2.274678945541382, GPU time: 0.18771696090698242\n",
      "Size: 10805, CPU time: 2.3406882286071777, GPU time: 0.19385647773742676\n",
      "Size: 10905, CPU time: 2.4144327640533447, GPU time: 0.19762969017028809\n",
      "Size: 11005, CPU time: 2.4775679111480713, GPU time: 0.20009255409240723\n",
      "Size: 11105, CPU time: 2.5400662422180176, GPU time: 0.21284794807434082\n",
      "Size: 11205, CPU time: 2.603816509246826, GPU time: 0.21047329902648926\n",
      "Size: 11305, CPU time: 2.761258363723755, GPU time: 0.21954917907714844\n",
      "Size: 11405, CPU time: 2.7989695072174072, GPU time: 0.21995091438293457\n",
      "Size: 11505, CPU time: 2.8781914710998535, GPU time: 0.23221707344055176\n",
      "Size: 11605, CPU time: 2.9930450916290283, GPU time: 0.22965669631958008\n",
      "Size: 11705, CPU time: 3.036278486251831, GPU time: 0.23435449600219727\n",
      "Size: 11805, CPU time: 3.0972959995269775, GPU time: 0.24074721336364746\n",
      "Size: 11905, CPU time: 3.2097060680389404, GPU time: 0.24528264999389648\n",
      "Size: 12005, CPU time: 3.264270544052124, GPU time: 0.2524235248565674\n",
      "Size: 12105, CPU time: 3.343454122543335, GPU time: 0.26015424728393555\n",
      "Size: 12205, CPU time: 3.3931002616882324, GPU time: 0.26986169815063477\n",
      "Size: 12305, CPU time: 3.36240291595459, GPU time: 0.26567721366882324\n",
      "Size: 12405, CPU time: 3.4532454013824463, GPU time: 0.2675802707672119\n",
      "Size: 12505, CPU time: 3.6356680393218994, GPU time: 0.28557562828063965\n",
      "Size: 12605, CPU time: 3.6931588649749756, GPU time: 0.28212428092956543\n",
      "Size: 12705, CPU time: 3.7514703273773193, GPU time: 0.29032135009765625\n",
      "Size: 12805, CPU time: 3.9292871952056885, GPU time: 0.2919473648071289\n",
      "Size: 12905, CPU time: 3.9622573852539062, GPU time: 0.29552483558654785\n",
      "Size: 13005, CPU time: 4.039593696594238, GPU time: 0.3131551742553711\n",
      "Size: 13105, CPU time: 4.094968318939209, GPU time: 0.3124241828918457\n",
      "Size: 13205, CPU time: 4.18997597694397, GPU time: 0.31457996368408203\n",
      "Size: 13305, CPU time: 4.287034749984741, GPU time: 0.3263578414916992\n",
      "Size: 13405, CPU time: 4.353771924972534, GPU time: 0.32795000076293945\n",
      "Size: 13505, CPU time: 4.503824710845947, GPU time: 0.3374464511871338\n",
      "Size: 13605, CPU time: 4.590943098068237, GPU time: 0.342268705368042\n",
      "Size: 13705, CPU time: 4.7262468338012695, GPU time: 0.3519887924194336\n",
      "Size: 13805, CPU time: 4.884282350540161, GPU time: 0.3540616035461426\n",
      "Size: 13905, CPU time: 4.971487998962402, GPU time: 0.3635585308074951\n",
      "Size: 14005, CPU time: 4.919822454452515, GPU time: 0.36643099784851074\n",
      "Size: 14105, CPU time: 5.14759635925293, GPU time: 0.37384533882141113\n",
      "Size: 14205, CPU time: 5.1948418617248535, GPU time: 0.4017031192779541\n",
      "Size: 14305, CPU time: 5.286420822143555, GPU time: 0.3962433338165283\n",
      "Size: 14405, CPU time: 5.423384189605713, GPU time: 0.40076756477355957\n",
      "Size: 14505, CPU time: 5.4731605052948, GPU time: 0.400529146194458\n",
      "Size: 14605, CPU time: 5.580400466918945, GPU time: 0.4102144241333008\n",
      "Size: 14705, CPU time: 5.713794946670532, GPU time: 0.41604065895080566\n",
      "Size: 14805, CPU time: 5.921765565872192, GPU time: 0.4230988025665283\n",
      "Size: 14905, CPU time: 6.0540032386779785, GPU time: 0.45464468002319336\n",
      "Size: 15005, CPU time: 6.060735464096069, GPU time: 0.4403102397918701\n",
      "Size: 15105, CPU time: 6.263326406478882, GPU time: 0.4489097595214844\n",
      "Size: 15205, CPU time: 6.282626390457153, GPU time: 0.45241808891296387\n",
      "Size: 15305, CPU time: 6.273667812347412, GPU time: 0.47498011589050293\n",
      "Size: 15405, CPU time: 6.976861000061035, GPU time: 0.48432111740112305\n",
      "Size: 15505, CPU time: 7.1157543659210205, GPU time: 0.47749948501586914\n",
      "Size: 15605, CPU time: 7.247621536254883, GPU time: 0.48494434356689453\n",
      "Size: 15705, CPU time: 7.491960763931274, GPU time: 0.4939906597137451\n",
      "Size: 15805, CPU time: 7.607821464538574, GPU time: 0.49950742721557617\n",
      "Size: 15905, CPU time: 7.667279481887817, GPU time: 0.5095067024230957\n",
      "Size: 16005, CPU time: 7.903651237487793, GPU time: 0.5274026393890381\n",
      "Size: 16105, CPU time: 8.002359628677368, GPU time: 0.5238163471221924\n",
      "Size: 16205, CPU time: 8.082826614379883, GPU time: 0.5313258171081543\n",
      "Size: 16305, CPU time: 8.094628095626831, GPU time: 0.5399692058563232\n",
      "Size: 16405, CPU time: 7.982515811920166, GPU time: 0.553607702255249\n",
      "Size: 16505, CPU time: 8.073273181915283, GPU time: 0.5688667297363281\n",
      "Size: 16605, CPU time: 8.203046798706055, GPU time: 0.5565564632415771\n",
      "Size: 16705, CPU time: 8.374769449234009, GPU time: 0.5857560634613037\n",
      "Size: 16805, CPU time: 8.557358980178833, GPU time: 0.5831212997436523\n",
      "Size: 16905, CPU time: 8.757286548614502, GPU time: 0.595085620880127\n",
      "Size: 17005, CPU time: 8.900447845458984, GPU time: 0.5982174873352051\n",
      "Size: 17105, CPU time: 8.939924955368042, GPU time: 0.6079597473144531\n",
      "Size: 17205, CPU time: 8.991175651550293, GPU time: 0.6227567195892334\n",
      "Size: 17305, CPU time: 9.385025978088379, GPU time: 0.6327002048492432\n",
      "Size: 17405, CPU time: 9.68658995628357, GPU time: 0.6352715492248535\n",
      "Size: 17505, CPU time: 9.737360954284668, GPU time: 0.6519041061401367\n",
      "Size: 17605, CPU time: 9.999693870544434, GPU time: 0.6350979804992676\n",
      "Size: 17705, CPU time: 10.110619306564331, GPU time: 0.6568772792816162\n",
      "Size: 17805, CPU time: 10.236194372177124, GPU time: 0.6566236019134521\n",
      "Size: 17905, CPU time: 10.196488857269287, GPU time: 0.6646201610565186\n",
      "Size: 18005, CPU time: 10.524979829788208, GPU time: 0.6907944679260254\n",
      "Size: 18105, CPU time: 10.71142864227295, GPU time: 0.6865689754486084\n",
      "Size: 18205, CPU time: 10.935264110565186, GPU time: 0.7055165767669678\n",
      "Size: 18305, CPU time: 11.15722942352295, GPU time: 0.7056055068969727\n",
      "Size: 18405, CPU time: 11.364625215530396, GPU time: 0.7267613410949707\n",
      "Size: 18505, CPU time: 11.327393531799316, GPU time: 0.7240524291992188\n",
      "Size: 18605, CPU time: 11.624672412872314, GPU time: 0.73203444480896\n",
      "Size: 18705, CPU time: 11.819302558898926, GPU time: 0.7619767189025879\n",
      "Size: 18805, CPU time: 12.009968519210815, GPU time: 0.7476482391357422\n",
      "Size: 18905, CPU time: 12.17914080619812, GPU time: 0.7710332870483398\n",
      "Size: 19005, CPU time: 12.332044839859009, GPU time: 0.781010627746582\n",
      "Size: 19105, CPU time: 12.537875413894653, GPU time: 0.773273229598999\n",
      "Size: 19205, CPU time: 12.801232814788818, GPU time: 0.7991132736206055\n",
      "Size: 19305, CPU time: 12.93232011795044, GPU time: 0.7926115989685059\n",
      "Size: 19405, CPU time: 13.127459049224854, GPU time: 0.8349056243896484\n",
      "Size: 19505, CPU time: 13.694856643676758, GPU time: 0.8517951965332031\n",
      "Size: 19605, CPU time: 13.711828470230103, GPU time: 0.8341119289398193\n",
      "Size: 19705, CPU time: 14.08590292930603, GPU time: 0.8520286083221436\n",
      "Size: 19805, CPU time: 14.275797128677368, GPU time: 0.8782482147216797\n",
      "Size: 19905, CPU time: 14.509258508682251, GPU time: 0.8702495098114014\n"
     ]
    }
   ],
   "source": [
    "cpu_times = []\n",
    "gpu_times = []\n",
    "\n",
    "has_gpu = tf.config.list_physical_devices('GPU')\n",
    "\n",
    "for size in matrix_sizes:\n",
    "    cpu_time = measure_time(size, '/CPU:0')\n",
    "    cpu_times.append(cpu_time)\n",
    "    \n",
    "    if has_gpu:\n",
    "        gpu_time = measure_time(size, '/GPU:0')\n",
    "        gpu_times.append(gpu_time)\n",
    "    else:\n",
    "        gpu_times.append(None)\n",
    "    \n",
    "    print(f\"Size: {size}, CPU time: {cpu_time}, GPU time: {gpu_time if has_gpu else 'N/A'}\")"
   ]
  },
  {
   "cell_type": "markdown",
   "id": "562b7de0-0e4c-4867-aff9-29f2ae4cea2c",
   "metadata": {},
   "source": [
    "### Plot the result"
   ]
  },
  {
   "cell_type": "code",
   "execution_count": 10,
   "id": "78355760-bc8e-449d-ab8e-4cfc100ce179",
   "metadata": {},
   "outputs": [
    {
     "data": {
      "image/png": "[encoded data removed]",
      "text/plain": [
       "<Figure size 1000x500 with 1 Axes>"
      ]
     },
     "metadata": {},
     "output_type": "display_data"
    }
   ],
   "source": [
    "plt.figure(figsize=(10, 5))\n",
    "plt.plot(matrix_sizes, cpu_times, label='CPU Time')\n",
    "if has_gpu:\n",
    "    plt.plot(matrix_sizes, gpu_times, label='GPU Time')\n",
    "plt.xlabel('Matrix Size')\n",
    "plt.ylabel('Computation Time (seconds)')\n",
    "plt.title('Computation Time for Matrix Multiplication')\n",
    "plt.legend()\n",
    "plt.show()"
   ]
  },
  {
   "cell_type": "markdown",
   "id": "fb3a09d8-4566-4c3c-8822-8ff776cc24be",
   "metadata": {},
   "source": [
    "## Experiment 2 - Matrix multiplication without data copy"
   ]
  },
  {
   "cell_type": "markdown",
   "id": "f9f17757-608c-4f0e-80c4-bf8d4a95e6c1",
   "metadata": {},
   "source": [
    "It will take some time to transfer data to the GPU. Will we achieve better performance if we copy the matrices to the GPU just once and then perform the same multiplication repeatedly?"
   ]
  },
  {
   "cell_type": "code",
   "execution_count": 14,
   "id": "ebe5ec30-c0c4-49ef-b4c4-1d5377a3b18f",
   "metadata": {},
   "outputs": [
    {
     "name": "stdout",
     "output_type": "stream",
     "text": [
      "Total CPU time for 20 multiplications: 283.88187 seconds\n",
      "Total GPU time for 20 multiplications: 16.45187 seconds\n"
     ]
    },
    {
     "data": {
      "image/png": "[encoded data removed]",
      "text/plain": [
       "<Figure size 800x500 with 1 Axes>"
      ]
     },
     "metadata": {},
     "output_type": "display_data"
    }
   ],
   "source": [
    "# Set the matrix size\n",
    "matrix_sizes = 20000\n",
    "num_calls = 20\n",
    "\n",
    "# Function to perform multiple matrix multiplications and measure total time\n",
    "def measure_total_time(A, B, device, num_calls):\n",
    "    with tf.device(device):\n",
    "        # Warm-up run\n",
    "        tf.matmul(A, B).numpy()\n",
    "\n",
    "        # Time multiple calls\n",
    "        start_time = time.time()\n",
    "        for _ in range(num_calls):\n",
    "            tf.matmul(A, B).numpy()\n",
    "        total_time = time.time() - start_time\n",
    "\n",
    "    return total_time\n",
    "\n",
    "# Check for GPU availability\n",
    "has_gpu = tf.config.list_physical_devices('GPU')\n",
    "\n",
    "# Allocate matrices on CPU\n",
    "A_cpu = tf.random.normal([matrix_sizes, matrix_sizes], dtype=tf.float32)\n",
    "B_cpu = tf.random.normal([matrix_sizes, matrix_sizes], dtype=tf.float32)\n",
    "\n",
    "# Allocate matrices on GPU if available\n",
    "if has_gpu:\n",
    "    with tf.device('/GPU:0'):\n",
    "        A_gpu = A_cpu\n",
    "        B_gpu = B_cpu\n",
    "\n",
    "# Measure total computation time on CPU\n",
    "total_cpu_time = measure_total_time(A_cpu, B_cpu, '/CPU:0', num_calls)\n",
    "print(f\"Total CPU time for {num_calls} multiplications: {total_cpu_time:.5f} seconds\")\n",
    "\n",
    "# Measure total computation time on GPU\n",
    "if has_gpu:\n",
    "    total_gpu_time = measure_total_time(A_gpu, B_gpu, '/GPU:0', num_calls)\n",
    "    print(f\"Total GPU time for {num_calls} multiplications: {total_gpu_time:.5f} seconds\")\n",
    "\n",
    "    # Visualize the total CPU and GPU times with matplotlib\n",
    "    plt.figure(figsize=(8, 5))\n",
    "    bar_locations = np.arange(2)\n",
    "    plt.bar(bar_locations, [total_cpu_time, total_gpu_time], color=['red', 'green'])\n",
    "    plt.xticks(bar_locations, ['CPU', 'GPU'])\n",
    "    plt.ylabel('Total Computation Time (seconds)')\n",
    "    plt.title(f'Total Computation Time for {matrix_sizes}x{matrix_sizes} Matrix Multiplication Over {num_calls} Calls')\n",
    "    plt.show()\n",
    "else:\n",
    "    print(\"GPU not available.\")\n"
   ]
  },
  {
   "cell_type": "code",
   "execution_count": null,
   "id": "e5f90913-590f-4d6c-b991-a6e4c694f7e9",
   "metadata": {},
   "outputs": [],
   "source": []
  }
 ],
 "metadata": {
  "kernelspec": {
   "display_name": "Python 3 (ipykernel)",
   "language": "python",
   "name": "python3"
  },
  "language_info": {
   "codemirror_mode": {
    "name": "ipython",
    "version": 3
   },
   "file_extension": ".py",
   "mimetype": "text/x-python",
   "name": "python",
   "nbconvert_exporter": "python",
   "pygments_lexer": "ipython3",
   "version": "3.8.10"
  }
 },
 "nbformat": 4,
 "nbformat_minor": 5
}
